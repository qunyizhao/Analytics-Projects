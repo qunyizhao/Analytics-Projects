{
 "cells": [
  {
   "cell_type": "code",
   "execution_count": null,
   "metadata": {},
   "outputs": [],
   "source": [
    "#Installing Required Packages numpy, pandas, seaborn, nltk, and ssl for nlp\n",
    "\n",
    "pip install numpy\n",
    "import numpy as np\n",
    "pip install pandas\n",
    "import pandas as pd\n",
    "pip install seaborn\n",
    "import seaborn as sns\n",
    "pip install nltk\n",
    "import nltk\n",
    "import ssl\n",
    "#Workaround to install required lexicon packages for language detection (vader lexicon)\n",
    "try:\n",
    "    _create_unverified_https_context = ssl._create_unverified_context\n",
    "except AttributeError:\n",
    "    pass\n",
    "else:\n",
    "    ssl._create_default_https_context = _create_unverified_https_context\n",
    "\n",
    "nltk.download()\n",
    "nltk.download('vader_lexicon')\n",
    "import langdetect\n",
    "\n",
    "#Importing reviews datafile and removing empty values, displaying dataset\n",
    "reviews = pd.read_csv(\"/Users/junaid/Desktop/reviews.csv\")\n",
    "reviews = reviews.dropna()\n",
    "reviews.head()\n",
    "\n"
   ]
  },
  {
   "cell_type": "code",
   "execution_count": null,
   "metadata": {},
   "outputs": [],
   "source": [
    "!pip3 install langdetect"
   ]
  },
  {
   "cell_type": "code",
   "execution_count": null,
   "metadata": {},
   "outputs": [],
   "source": [
    "#Code to calculate polarity scores\n",
    "from nltk.sentiment.vader import SentimentIntensityAnalyzer\n",
    "sid = SentimentIntensityAnalyzer()\n",
    "\n",
    "reviews['polarity_value']=\"Default\"\n",
    "reviews['neg']=0.0\n",
    "reviews['pos']=0.0\n",
    "reviews['neu']=0.0\n",
    "reviews['compound']=0.0"
   ]
  },
  {
   "cell_type": "code",
   "execution_count": null,
   "metadata": {},
   "outputs": [],
   "source": [
    "#Code to calculate polarity scores\n",
    "for index,row in reviewsDF.iterrows():\n",
    "    ss = sid.polarity_scores(row['comments'])\n",
    "    reviews.at[index,'polarity_value'] = ss\n",
    "    reviews.at[index,'neg'] = ss['neg']\n",
    "    reviews.at[index,'pos'] = ss['pos']\n",
    "    reviews.at[index,'neu']= ss['neu']\n",
    "    reviews.at[index,'compound'] = ss['compound']"
   ]
  },
  {
   "cell_type": "code",
   "execution_count": null,
   "metadata": {},
   "outputs": [],
   "source": [
    "#Displaying the calculated dataframe with all polarity values\n",
    "reviews.head()"
   ]
  },
  {
   "cell_type": "code",
   "execution_count": null,
   "metadata": {},
   "outputs": [],
   "source": [
    "#Python codes reference (Chicago Manual of Style 17th Edition (Full Note)): \n",
    "#Chaitanyakck. “Part-3 Relationship b/W Reviews and Price.” Kaggle. Kaggle, December 18, 2020. https://www.kaggle.com/code/chaitanyakck/part-3-relationship-bw-reviews-and-price/notebook. \n",
    "#“Vadersentiment.” PyPI. Accessed October 2, 2022. https://pypi.org/project/vaderSentiment.\n",
    "#Reddit (R/Learnpython). “R/Learnpython - Trouble Downloading Nltk Files.” reddit. Accessed October 4, 2022. https://www.reddit.com/r/learnpython/comments/86ljrx/trouble_downloading_nltk_files.\n",
    "#Jason. “Error Installing NLTK Python.” Stack Overflow. StackOverflow. Accessed October 7, 2022. https://stackoverflow.com/questions/43442372/error-installing-nltk-pytho."
   ]
  }
 ],
 "metadata": {
  "kernelspec": {
   "display_name": "Python 3.10.7 64-bit",
   "language": "python",
   "name": "python3"
  },
  "language_info": {
   "codemirror_mode": {
    "name": "ipython",
    "version": 3
   },
   "file_extension": ".py",
   "mimetype": "text/x-python",
   "name": "python",
   "nbconvert_exporter": "python",
   "pygments_lexer": "ipython3",
   "version": "3.10.7"
  },
  "orig_nbformat": 4,
  "vscode": {
   "interpreter": {
    "hash": "aee8b7b246df8f9039afb4144a1f6fd8d2ca17a180786b69acc140d282b71a49"
   }
  }
 },
 "nbformat": 4,
 "nbformat_minor": 2
}
